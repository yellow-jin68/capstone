{
 "cells": [
  {
   "cell_type": "code",
   "execution_count": 1,
   "id": "d644d73d",
   "metadata": {},
   "outputs": [],
   "source": [
    "import re\n",
    "import pandas as pd\n",
    "import requests\n",
    "from bs4 import BeautifulSoup\n",
    "import urllib.parse"
   ]
  },
  {
   "cell_type": "code",
   "execution_count": 2,
   "id": "c28ad96c",
   "metadata": {},
   "outputs": [],
   "source": [
    "data = pd.read_csv('Gangnam.csv', encoding='cp949')"
   ]
  },
  {
   "cell_type": "code",
   "execution_count": 3,
   "id": "9fbca01a",
   "metadata": {},
   "outputs": [],
   "source": [
    "# 음식과 관광호텔을 제외한 행만 필터링\n",
    "filtered_data = data[(data['KTO카테고리대분류명'] != '음식') & (data['KTO카테고리소분류명'] != '관광호텔')]"
   ]
  },
  {
   "cell_type": "code",
   "execution_count": 4,
   "id": "bc5db9a1",
   "metadata": {},
   "outputs": [],
   "source": [
    "# 관광지명 추출\n",
    "tourist_spots = filtered_data['관광지명'].tolist()\n",
    "\n",
    "# 관광지명을 URL 인코딩하여 리스트에 저장\n",
    "encoded_list = [urllib.parse.quote(s) for s in tourist_spots]"
   ]
  },
  {
   "cell_type": "code",
   "execution_count": 5,
   "id": "609e473a",
   "metadata": {},
   "outputs": [
    {
     "name": "stdout",
     "output_type": "stream",
     "text": [
      "   시군구명       관광지명       음식점명  음식점카테고리\n",
      "0   강남구  스타필드 코엑스몰         미랑      양갈비\n",
      "1   강남구  스타필드 코엑스몰         지칸     이자카야\n",
      "2   강남구  스타필드 코엑스몰         루아     이자카야\n",
      "3   강남구  스타필드 코엑스몰   김이정 숯불구이  육류,고기요리\n",
      "4   강남구  스타필드 코엑스몰  동어동락 삼성본점      생선회\n",
      "..  ...        ...        ...      ...\n",
      "91  강남구       학동공원  트라가 가로수길점    스페인음식\n",
      "92  강남구       학동공원     정돈 신사점      돈가스\n",
      "93  강남구       학동공원    미미면가 본점      일식당\n",
      "94  강남구       학동공원    카이센동우니도      일식당\n",
      "95  강남구       학동공원    클랩피자 청담       피자\n",
      "\n",
      "[96 rows x 4 columns]\n"
     ]
    }
   ],
   "source": [
    "# 새로운 데이터프레임 생성\n",
    "new_data = pd.DataFrame(columns=['시군구명', '관광지명', '음식점명', '음식점카테고리'])\n",
    "\n",
    "# 중복된 음식점을 추적하기 위한 세트 생성\n",
    "unique_restaurants = set()\n",
    "\n",
    "# 음식점 정보 가져오기\n",
    "for spot, row in zip(encoded_list, filtered_data.iterrows()):\n",
    "    basic = f'https://search.naver.com/search.naver?where=nexearch&sm=top_hty&fbm=0&ie=utf8&query={spot}+%EB%A7%9B%EC%A7%91'\n",
    "    url = requests.get(basic, headers={'User-Agent': 'Mozilla/5.0'})\n",
    "    html = url.content\n",
    "    soup = BeautifulSoup(html, 'html.parser')\n",
    "\n",
    "    # 음식점명 + 카테고리 추출\n",
    "    span_name = soup.find_all(class_='TYaxT')\n",
    "    span_category = soup.find_all(class_='KCMnt')\n",
    "\n",
    "    # 각 음식점명과 카테고리를 묶어서 음식점 정보 생성\n",
    "    for name, category in zip(span_name, span_category):\n",
    "        restaurant_name = name.text.strip()\n",
    "        restaurant_category = category.text.strip()\n",
    "        \n",
    "        # 중복된 음식점인지 확인하고 중복되지 않은 경우에만 데이터프레임에 추가\n",
    "        if (row[1]['관광지명'], restaurant_name) not in unique_restaurants:\n",
    "            new_data = pd.concat([new_data, pd.DataFrame({'시군구명': [row[1]['시군구명']],\n",
    "                                                          '관광지명': [row[1]['관광지명']],\n",
    "                                                          '음식점명': [restaurant_name],\n",
    "                                                          '음식점카테고리': [restaurant_category]})], ignore_index=True)\n",
    "            # 중복 제거 세트에 추가\n",
    "            unique_restaurants.add((row[1]['관광지명'], restaurant_name))\n",
    "\n",
    "# 새로운 데이터프레임 출력\n",
    "print(new_data)"
   ]
  },
  {
   "cell_type": "code",
   "execution_count": null,
   "id": "a01a7450",
   "metadata": {},
   "outputs": [],
   "source": []
  }
 ],
 "metadata": {
  "kernelspec": {
   "display_name": "Python 3 (ipykernel)",
   "language": "python",
   "name": "python3"
  },
  "language_info": {
   "codemirror_mode": {
    "name": "ipython",
    "version": 3
   },
   "file_extension": ".py",
   "mimetype": "text/x-python",
   "name": "python",
   "nbconvert_exporter": "python",
   "pygments_lexer": "ipython3",
   "version": "3.9.17"
  }
 },
 "nbformat": 4,
 "nbformat_minor": 5
}

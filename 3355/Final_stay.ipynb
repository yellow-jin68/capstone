{
 "cells": [
  {
   "cell_type": "code",
   "execution_count": 1,
   "id": "3d47e572",
   "metadata": {},
   "outputs": [
    {
     "name": "stdout",
     "output_type": "stream",
     "text": [
      "         관광지명     숙박시설명                                                URL\n",
      "0    화랑대 철도공원       W호텔  https://www.google.com/maps/place/W%ED%98%B8%E...\n",
      "1    화랑대 철도공원  갈매 퍼스트호텔  https://www.google.com/maps/place/%EA%B0%88%EB...\n",
      "2    화랑대 철도공원       르블랑  https://www.google.com/maps/place/%EB%A5%B4%EB...\n",
      "3    화랑대 철도공원       S호텔  https://www.google.com/maps/place/S%ED%98%B8%E...\n",
      "4    화랑대 철도공원      태릉 인  https://www.google.com/maps/place/%ED%83%9C%EB...\n",
      "..        ...       ...                                                ...\n",
      "154      화랑대역       W호텔  https://www.google.com/maps/place/W%ED%98%B8%E...\n",
      "155      화랑대역       르블랑  https://www.google.com/maps/place/%EB%A5%B4%EB...\n",
      "156      화랑대역      태릉 인  https://www.google.com/maps/place/%ED%83%9C%EB...\n",
      "157      화랑대역       S호텔  https://www.google.com/maps/place/S%ED%98%B8%E...\n",
      "158      화랑대역      QT모텔  https://www.google.com/maps/place/QT%EB%AA%A8%...\n",
      "\n",
      "[157 rows x 3 columns]\n"
     ]
    }
   ],
   "source": [
    "import pandas as pd\n",
    "import urllib.parse\n",
    "from selenium import webdriver\n",
    "from bs4 import BeautifulSoup\n",
    "\n",
    "# CSV 파일에서 데이터 읽어오기\n",
    "data = pd.read_csv('Nowon.csv', encoding='cp949')\n",
    "\n",
    "# 음식과 숙박을 제외한 행만 필터링\n",
    "filtered_data = data[(data['KTO카테고리대분류명'] != '음식') & (data['KTO카테고리대분류명'] != '숙박')]\n",
    "\n",
    "# 관광지명 추출\n",
    "tourist_spots = filtered_data['관광지명'].tolist()\n",
    "\n",
    "# 중복 관광지명 제거\n",
    "tourist_spots = list(set(tourist_spots))\n",
    "\n",
    "# Chrome WebDriver 초기화\n",
    "options = webdriver.ChromeOptions()\n",
    "options.add_argument('headless')  # 브라우저 창이 나타나지 않도록 설정\n",
    "driver = webdriver.Chrome(options=options)\n",
    "\n",
    "# 결과를 저장할 데이터 프레임 생성\n",
    "result_df = pd.DataFrame(columns=['관광지명', '숙박시설명', 'URL'])\n",
    "\n",
    "# 관광지명에 대해 반복\n",
    "for spot in tourist_spots:\n",
    "    # Google 지도 페이지로 이동\n",
    "    url = f\"https://www.google.com/maps/search/{urllib.parse.quote(spot)}+%EC%88%99%EB%B0%95%EC%8B%9C%EC%84%A4/data=!3m1!4b1?hl=ko&entry=ttu\"\n",
    "    driver.get(url)\n",
    "    \n",
    "    # 페이지의 HTML 가져오기\n",
    "    page_content = driver.page_source\n",
    "    \n",
    "    # BeautifulSoup을 사용하여 HTML 파싱\n",
    "    soup = BeautifulSoup(page_content, 'html.parser')\n",
    "    \n",
    "    # 클래스가 'hfpxzc'인 모든 요소(숙박시설) 찾기\n",
    "    elements = soup.find_all('a', class_='hfpxzc')\n",
    "    \n",
    "    # 관광지별 숙박시설 목록을 저장할 리스트 초기화\n",
    "    accommodations = []\n",
    "    \n",
    "    # 결과를 데이터프레임에 추가\n",
    "    for element in elements:\n",
    "        aria_label = element['aria-label']\n",
    "        href = element['href']\n",
    "        \n",
    "        # 중복 숙박시설 제거\n",
    "        if aria_label not in accommodations:\n",
    "            accommodations.append(aria_label)\n",
    "            # 결과 데이터프레임에 추가\n",
    "            result_df = pd.concat([result_df, pd.DataFrame({'관광지명': [spot], '숙박시설명': [aria_label], 'URL': [href]})], ignore_index=True)\n",
    "    \n",
    "    # 관광지별로 숙박시설명이 안 나오는 경우 해당 관광지 삭제\n",
    "    if len(accommodations) == 0:\n",
    "        result_df = result_df[result_df['관광지명'] != spot]\n",
    "        \n",
    "# 숙박시설명과 관광지명이 겹치는 경우 해당 행 삭제\n",
    "result_df = result_df[result_df['숙박시설명'] != result_df['관광지명']]\n",
    "\n",
    "# 크롤링이 끝나면 WebDriver 종료\n",
    "driver.quit()\n",
    "\n",
    "# 결과 데이터프레임 출력\n",
    "print(result_df)"
   ]
  },
  {
   "cell_type": "code",
   "execution_count": 2,
   "id": "1f9ee1d6",
   "metadata": {},
   "outputs": [],
   "source": [
    "# 결과 데이터프레임을 CSV 파일로 저장\n",
    "result_df.to_csv('Nowon_stay.csv', index=False, encoding='utf-8-sig')"
   ]
  },
  {
   "cell_type": "code",
   "execution_count": null,
   "id": "ee32c3f1",
   "metadata": {},
   "outputs": [],
   "source": []
  }
 ],
 "metadata": {
  "kernelspec": {
   "display_name": "Python 3 (ipykernel)",
   "language": "python",
   "name": "python3"
  },
  "language_info": {
   "codemirror_mode": {
    "name": "ipython",
    "version": 3
   },
   "file_extension": ".py",
   "mimetype": "text/x-python",
   "name": "python",
   "nbconvert_exporter": "python",
   "pygments_lexer": "ipython3",
   "version": "3.9.17"
  }
 },
 "nbformat": 4,
 "nbformat_minor": 5
}

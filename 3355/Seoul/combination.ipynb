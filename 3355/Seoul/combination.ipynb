{
 "cells": [
  {
   "cell_type": "code",
   "execution_count": 11,
   "id": "dd8c149f",
   "metadata": {},
   "outputs": [
    {
     "name": "stdout",
     "output_type": "stream",
     "text": [
      "Reading file: Dobong_all.csv\n",
      "Reading file: Dongdaemun_all.csv\n",
      "Reading file: Gangnam_all.csv\n",
      "Reading file: Gangseo_all.csv\n",
      "Reading file: Geumcheon_all.csv\n",
      "Reading file: Guro_all.csv\n",
      "Merging dataframes...\n",
      "Dataframe merged successfully and saved as: Seoul_1.csv\n"
     ]
    }
   ],
   "source": [
    "import pandas as pd\n",
    "import os\n",
    "\n",
    "# 현재 작업 디렉토리\n",
    "current_directory = os.getcwd()\n",
    "\n",
    "# CSV 파일이 위치한 디렉토리\n",
    "directory = os.path.join(current_directory, 'Seoul_all')\n",
    "\n",
    "# 묶을 CSV 파일들의 리스트\n",
    "csv_files = [file for file in os.listdir(directory) if file.endswith('.csv')]\n",
    "\n",
    "# 데이터프레임 리스트\n",
    "dfs = []\n",
    "\n",
    "# CSV 파일들을 읽어서 데이터프레임 리스트에 추가\n",
    "for file in csv_files:\n",
    "    print(\"Reading file:\", file)  # 현재 읽고 있는 파일을 출력하여 확인\n",
    "    df = pd.read_csv(os.path.join(directory, file), encoding='utf-8')  # 인코딩 설정\n",
    "    dfs.append(df)\n",
    "\n",
    "# 데이터프레임 리스트에 데이터가 있는지 확인하고 병합\n",
    "if dfs:\n",
    "    print(\"Merging dataframes...\")  # 데이터프레임을 병합하는 단계에 진입했는지 출력하여 확인\n",
    "    merged_df = pd.concat(dfs, ignore_index=True)\n",
    "    \n",
    "    # 병합된 데이터프레임을 새로운 CSV 파일로 저장 (한국어 인코딩)\n",
    "    output_file = 'Seoul_1.csv'  # 저장할 파일 이름\n",
    "    merged_df.to_csv(output_file, index=False, encoding='utf-8')  # 한국어 인코딩 설정\n",
    "    \n",
    "    print(\"Dataframe merged successfully and saved as:\", output_file)  # 데이터프레임이 성공적으로 저장되었는지 출력하여 확인\n",
    "else:\n",
    "    print(\"No CSV files found in the directory.\")  # 해당 디렉토리에 CSV 파일이 없는 경우를 출력하여 확인\n"
   ]
  },
  {
   "cell_type": "code",
   "execution_count": 12,
   "id": "3b66f20a",
   "metadata": {},
   "outputs": [
    {
     "name": "stdout",
     "output_type": "stream",
     "text": [
      "   시군구명    시도명     관광지명                                         Unnamed: 3  \\\n",
      "0   도봉구  서울특별시    서울창포원  https://korean.visitkorea.or.kr/detail/ms_deta...   \n",
      "1   도봉구  서울특별시   평화문화진지  https://korean.visitkorea.or.kr/detail/ms_deta...   \n",
      "2   도봉구  서울특별시      도봉산  https://korean.visitkorea.or.kr/detail/ms_deta...   \n",
      "3   도봉구  서울특별시  다락원체육공원  https://korean.visitkorea.or.kr/detail/ms_deta...   \n",
      "4   도봉구  서울특별시     신창시장  https://korean.visitkorea.or.kr/detail/ms_deta...   \n",
      "..  ...    ...      ...                                                ...   \n",
      "69  구로구  서울특별시     거리공원  https://korean.visitkorea.or.kr/detail/ms_deta...   \n",
      "70  구로구  서울특별시    남구로시장  https://korean.visitkorea.or.kr/detail/ms_deta...   \n",
      "71  구로구  서울특별시     구로시장  https://korean.visitkorea.or.kr/detail/ms_deta...   \n",
      "72  구로구  서울특별시  디큐브아트센터  https://korean.visitkorea.or.kr/detail/ms_deta...   \n",
      "73  구로구  서울특별시   이마트 구로  https://korean.visitkorea.or.kr/detail/ms_deta...   \n",
      "\n",
      "     KTO카테고리대분류명 KTO카테고리중분류명 KTO카테고리소분류명  방문자수  \\\n",
      "0             자연       자연관광지         수목원   564   \n",
      "1   인문(문화/예술/역사)        문화시설         전시관   329   \n",
      "2             자연       자연관광지           산   296   \n",
      "3   인문(문화/예술/역사)       휴양관광지          공원   266   \n",
      "4             쇼핑          쇼핑        상설시장   263   \n",
      "..           ...         ...         ...   ...   \n",
      "69  인문(문화/예술/역사)       휴양관광지          공원    88   \n",
      "70            쇼핑          쇼핑        상설시장    67   \n",
      "71            쇼핑          쇼핑        상설시장    62   \n",
      "72  인문(문화/예술/역사)        문화시설         공연장    16   \n",
      "73            쇼핑          쇼핑       사후면세점     1   \n",
      "\n",
      "                                                 맛집정보  \\\n",
      "0   [('범1974', '카페,디저트'), ('소도둑 도봉점', '소고기구이'), ('...   \n",
      "1                            [('산과 산 사이 커피로드', '카페')]   \n",
      "2   [('삼각산숯불생고기', '육류,고기요리'), ('포레스트 바베큐', '스테이크,립...   \n",
      "3                            [('산과 산 사이 커피로드', '카페')]   \n",
      "4   [('섭생정식 창동본점', '한식'), ('하와이조개 수유점', '조개요리'), (...   \n",
      "..                                                ...   \n",
      "69  [('서울안심축산 구로거리공원본점', '소고기구이'), ('메가MGC커피 구로거리공...   \n",
      "70  [('더족발 신도림본점', '족발,보쌈'), ('영등포구석집 신도림점', '한식')...   \n",
      "71  [('더족발 신도림본점', '족발,보쌈'), ('영등포구석집 신도림점', '한식')...   \n",
      "72  [('라도맨션', '돼지고기구이'), ('돈남아', '육류,고기요리'), ('라무진...   \n",
      "73  [('본죽&비빔밥 구로디지털포스트1차점(이마트앞)', '죽'), ('죠스떡볶이 이마...   \n",
      "\n",
      "                                                 숙박정보  \n",
      "0   [('도봉 더데이 호텔', '호텔'), ('인디언소울II', '캠핑,야영장'), (...  \n",
      "1   [('인디언소울II', '캠핑,야영장'), ('도봉 더데이 호텔', '호텔'), (...  \n",
      "2   [('무수아취', '캠핑,야영장'), ('한미장펜션', '펜션'), ('서울YMCA...  \n",
      "3   [('인디언소울II', '캠핑,야영장'), ('서울YMCA다락원캠프장', '캠핑,야...  \n",
      "4   [('초안산캠핑장', '캠핑,야영장'), ('러쉬호텔', '모텔'), ('호텔 다니...  \n",
      "..                                                ...  \n",
      "69  [('라마다서울신도림호텔', '호텔'), ('블리스모텔', '모텔'), ('노벰버모...  \n",
      "70  [('포포인츠 바이 쉐라톤 서울 구로', '호텔'), ('롯데시티호텔 구로', '호...  \n",
      "71  [('포포인츠 바이 쉐라톤 서울 구로', '호텔'), ('롯데시티호텔 구로', '호...  \n",
      "72  [('라마다서울신도림호텔', '호텔'), ('코트야드 메리어트 서울 타임스퀘어', ...  \n",
      "73  [('신라스테이 구로', '호텔'), ('포포인츠 바이 쉐라톤 서울 구로', '호텔...  \n",
      "\n",
      "[74 rows x 10 columns]\n"
     ]
    }
   ],
   "source": [
    "import pandas as pd\n",
    "\n",
    "# 파일 경로\n",
    "file_path = 'Seoul_1.csv'\n",
    "\n",
    "# CSV 파일 읽기\n",
    "df = pd.read_csv(file_path, encoding='utf-8')\n",
    "\n",
    "# 데이터프레임 출력\n",
    "print(df)"
   ]
  },
  {
   "cell_type": "code",
   "execution_count": null,
   "id": "559f945d",
   "metadata": {},
   "outputs": [],
   "source": []
  }
 ],
 "metadata": {
  "kernelspec": {
   "display_name": "Python 3 (ipykernel)",
   "language": "python",
   "name": "python3"
  },
  "language_info": {
   "codemirror_mode": {
    "name": "ipython",
    "version": 3
   },
   "file_extension": ".py",
   "mimetype": "text/x-python",
   "name": "python",
   "nbconvert_exporter": "python",
   "pygments_lexer": "ipython3",
   "version": "3.9.17"
  }
 },
 "nbformat": 4,
 "nbformat_minor": 5
}
